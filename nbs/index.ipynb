{
 "cells": [
  {
   "attachments": {},
   "cell_type": "markdown",
   "metadata": {},
   "source": [
    "# Getting Started"
   ]
  },
  {
   "attachments": {},
   "cell_type": "markdown",
   "metadata": {},
   "source": [
    "## Install"
   ]
  },
  {
   "attachments": {},
   "cell_type": "markdown",
   "metadata": {},
   "source": [
    "1. Go to [gitnotebooks.com](https://gitnotebooks.com/) and click **Add to GitHub**\n",
    "2. Next click **Authorize GitNotebooks**\n",
    "3. From the [dashboard](https://gitnotebooks.com/dashboard), click **Add repos**\n",
    "4. Select the repos which contain Jupyter Notebooks"
   ]
  },
  {
   "attachments": {},
   "cell_type": "markdown",
   "metadata": {},
   "source": [
    "## How to use"
   ]
  },
  {
   "attachments": {},
   "cell_type": "markdown",
   "metadata": {},
   "source": [
    "##### From GitHub.com\n",
    "- After you've installed GitNotebooks, open a pull request with a change to a Jupyter notebook\n",
    "- You will see a comment from a GitNotebooks bot with a link to review the changes\n",
    "- Follow the link to see the changes and add comments\n",
    "- Add comments to lines\n",
    "\n",
    "##### From GitNotebooks.com\n",
    "- Login and navigate to the [Dashboard](https:/gitnotebooks.com/dashboard)\n",
    "- Click the repo with an open pull request that you'd like to review\n",
    "- Click a pull request to see the changes and add comments\n",
    "- Add comments to lines"
   ]
  }
 ],
 "metadata": {
  "kernelspec": {
   "display_name": "Python 3 (ipykernel)",
   "language": "python",
   "name": "python3"
  }
 },
 "nbformat": 4,
 "nbformat_minor": 4
}
