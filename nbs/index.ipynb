{
 "cells": [
  {
   "attachments": {},
   "cell_type": "markdown",
   "metadata": {},
   "source": [
    "# Getting Started\n",
    "\n",
    "> Reviewing Jupyter Notebooks in GitHub using GitNotebooks"
   ]
  },
  {
   "cell_type": "markdown",
   "metadata": {},
   "source": [
    "## Install"
   ]
  },
  {
   "attachments": {},
   "cell_type": "markdown",
   "metadata": {},
   "source": [
    "1. Go to [gitnotebooks.com](https://gitnotebooks.com/) and click **Add to GitHub**\n",
    "2. Next click **Authorize GitNotebooks**\n",
    "3. From the [dashboard](https://gitnotebooks.com/dashboard), click **Add repos**\n",
    "4. Select the repos which contain Jupyter Notebooks"
   ]
  },
  {
   "cell_type": "markdown",
   "metadata": {},
   "source": [
    "## How to use"
   ]
  },
  {
   "attachments": {},
   "cell_type": "markdown",
   "metadata": {},
   "source": [
    "After you've installed GitNotebooks, open a pull request with a change to a Jupyter notebook.\n",
    "\n",
    "You will see a comment from a GitNotebooks bot with a link to review the changes.\n",
    "\n",
    "Follow the link to see the changes and add comments.\n",
    "\n",
    "Add comments to lines."
   ]
  },
  {
   "attachments": {},
   "cell_type": "markdown",
   "metadata": {},
   "source": [
    "## Example\n"
   ]
  },
  {
   "attachments": {},
   "cell_type": "markdown",
   "metadata": {},
   "source": [
    "This documentation was written in Jupyter Notebooks using [nbdev](https://nbdev.fast.ai/).\n",
    "\n",
    "Let's update these docs and review the changes using GitNotebooks."
   ]
  }
 ],
 "metadata": {
  "kernelspec": {
   "display_name": "Python 3 (ipykernel)",
   "language": "python",
   "name": "python3"
  }
 },
 "nbformat": 4,
 "nbformat_minor": 4
}
