{
 "cells": [
  {
   "attachments": {},
   "cell_type": "markdown",
   "metadata": {},
   "source": [
    "# Example\n"
   ]
  },
  {
   "attachments": {},
   "cell_type": "markdown",
   "metadata": {},
   "source": [
    "These docs were written in Jupyter notebooks using [nbdev](https://nbdev.fast.ai/). In this example, we'll update these docs and show you how to review the changes to the notebooks using GitNotebooks.\n",
    "\n",
    "**Prerequisite**: Install GitNotebooks by following the steps in [Getting Started](./index.ipynb)"
   ]
  },
  {
   "attachments": {},
   "cell_type": "markdown",
   "metadata": {},
   "source": [
    "## Create a pull request with a change to a notebook\n",
    "\n",
    "The first step is to open a pull request with a change to a notebook. "
   ]
  },
  {
   "attachments": {},
   "cell_type": "markdown",
   "metadata": {},
   "source": [
    "## Follow the link posted by the bot\n",
    "\n",
    "When a change to a notebook is submitted in a pull request, a comment will be posted to the pull request with a link to review the changes."
   ]
  },
  {
   "attachments": {},
   "cell_type": "markdown",
   "metadata": {},
   "source": [
    "## Review the changes\n",
    "\n",
    "Review the changes and make comments and suggestions with your teammates."
   ]
  },
  {
   "attachments": {},
   "cell_type": "markdown",
   "metadata": {},
   "source": [
    "## Merge the pull request\n",
    "\n",
    "If the comments have been addressed, approve the pull request and merge the changes."
   ]
  }
 ],
 "metadata": {
  "kernelspec": {
   "display_name": "Python 3 (ipykernel)",
   "language": "python",
   "name": "python3"
  }
 },
 "nbformat": 4,
 "nbformat_minor": 4
}
