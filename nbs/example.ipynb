{
 "cells": [
  {
   "attachments": {},
   "cell_type": "markdown",
   "metadata": {},
   "source": [
    "# Example\n"
   ]
  },
  {
   "attachments": {},
   "cell_type": "markdown",
   "metadata": {},
   "source": [
    "*You can see the example live on GitHub at [GitNotebooks/docs PR #2](https://github.com/GitNotebooks/docs/pull/2)*\n",
    "\n",
    "These docs were written in Jupyter notebooks using [nbdev](https://nbdev.fast.ai/). In this example, we'll update these docs and show you how to review the changes to the notebooks using GitNotebooks.\n",
    "\n",
    "\n",
    "**Prerequisite**: Install GitNotebooks by following the steps in [Getting Started](./index.ipynb)"
   ]
  },
  {
   "attachments": {},
   "cell_type": "markdown",
   "metadata": {},
   "source": [
    "## Create a pull request with a change to a notebook\n",
    "\n",
    "The first step is to open a pull request with a change to a notebook. \n",
    "\n",
    "![A screenshot of an open pull request in GitHub named 'Add an example page'](./images/open-pr.png)"
   ]
  },
  {
   "attachments": {},
   "cell_type": "markdown",
   "metadata": {},
   "source": [
    "## Follow the link posted by the bot\n",
    "\n",
    "When a change to a notebook is submitted in a pull request, a comment will be posted to the pull request with a link to review the changes.\n",
    "\n",
    "![A screenshot of the diff of the notebooks rendered on GitNotebooks.com](./images/review-changes.png)"
   ]
  },
  {
   "attachments": {},
   "cell_type": "markdown",
   "metadata": {},
   "source": [
    "## Review the changes\n",
    "\n",
    "Review the changes and make comments and suggestions with your teammates.\n",
    "\n",
    "![A comment asking that screenshots be added to the example page](./images/add-comment.png)"
   ]
  },
  {
   "attachments": {},
   "cell_type": "markdown",
   "metadata": {},
   "source": [
    "## Merge the pull request\n",
    "\n",
    "If the comments have been addressed, approve the pull request and merge the changes.\n",
    "\n",
    "![A diff of the example.ipynb page with screenshots added and the status of the pull request as 'Merged'](./images/merged.png)"
   ]
  }
 ],
 "metadata": {
  "kernelspec": {
   "display_name": "Python 3 (ipykernel)",
   "language": "python",
   "name": "python3"
  }
 },
 "nbformat": 4,
 "nbformat_minor": 4
}
